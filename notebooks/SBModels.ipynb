{
 "cells": [
  {
   "cell_type": "markdown",
   "id": "3613000e",
   "metadata": {},
   "source": [
    "# This is work in progress for creating modules and functions"
   ]
  },
  {
   "cell_type": "markdown",
   "id": "52616989",
   "metadata": {
    "heading_collapsed": true
   },
   "source": [
    "# Juypter Enviroment Setup"
   ]
  },
  {
   "cell_type": "markdown",
   "id": "466e7b27",
   "metadata": {
    "hidden": true
   },
   "source": [
    "## Module Imports"
   ]
  },
  {
   "cell_type": "code",
   "execution_count": 2,
   "id": "33c31ee4",
   "metadata": {
    "hidden": true
   },
   "outputs": [
    {
     "name": "stdout",
     "output_type": "stream",
     "text": [
      "Number of CPUs in the system: 16\n",
      "Without NumPy\n",
      "\u001b[2m\u001b[36m(complex_operation pid=23538)\u001b[0m Complex operation. Input index:  3\n",
      "\u001b[2m\u001b[36m(complex_operation pid=23542)\u001b[0m Complex operation. Input index:  4\n",
      "\u001b[2m\u001b[36m(complex_operation pid=23543)\u001b[0m Complex operation. Input index:  2\n",
      "\u001b[2m\u001b[36m(complex_operation pid=23545)\u001b[0m Complex operation. Input index:  1\n",
      "\u001b[2m\u001b[36m(complex_operation pid=23539)\u001b[0m Complex operation. Input index:  8\n",
      "\u001b[2m\u001b[36m(complex_operation pid=23544)\u001b[0m Complex operation. Input index:  6\n",
      "\u001b[2m\u001b[36m(complex_operation pid=23540)\u001b[0m Complex operation. Input index:  9\n",
      "\u001b[2m\u001b[36m(complex_operation pid=23541)\u001b[0m Complex operation. Input index:  5\n",
      "\u001b[2m\u001b[36m(complex_operation pid=23537)\u001b[0m Complex operation. Input index:  7\n",
      "\u001b[2m\u001b[36m(complex_operation pid=23546)\u001b[0m Complex operation. Input index:  0\n",
      "run_complex_operations took 4.177sec\n",
      "NumPy\n",
      "\u001b[2m\u001b[36m(complex_operation_numpy pid=23538)\u001b[0m Complex operation (numpy). Input index:  4\n",
      "\u001b[2m\u001b[36m(complex_operation_numpy pid=23542)\u001b[0m Complex operation (numpy). Input index:  9\n",
      "\u001b[2m\u001b[36m(complex_operation_numpy pid=23543)\u001b[0m Complex operation (numpy). Input index:  8\n",
      "\u001b[2m\u001b[36m(complex_operation_numpy pid=23545)\u001b[0m Complex operation (numpy). Input index:  6\n",
      "\u001b[2m\u001b[36m(complex_operation_numpy pid=23539)\u001b[0m Complex operation (numpy). Input index:  2\n",
      "\u001b[2m\u001b[36m(complex_operation_numpy pid=23544)\u001b[0m Complex operation (numpy). Input index:  1\n",
      "\u001b[2m\u001b[36m(complex_operation_numpy pid=23540)\u001b[0m Complex operation (numpy). Input index:  0\n",
      "\u001b[2m\u001b[36m(complex_operation_numpy pid=23541)\u001b[0m Complex operation (numpy). Input index:  3\n",
      "\u001b[2m\u001b[36m(complex_operation_numpy pid=23537)\u001b[0m Complex operation (numpy). Input index:  7\n",
      "\u001b[2m\u001b[36m(complex_operation_numpy pid=23546)\u001b[0m Complex operation (numpy). Input index:  5\n",
      "run_complex_operations took 415.32ms\n"
     ]
    }
   ],
   "source": [
    "import pandas as pd\n",
    "import numpy as np\n",
    "import requests\n",
    "from urllib.request import urlretrieve\n",
    "from tqdm import tqdm\n",
    "import glob\n",
    "import os\n",
    "from pandas_profiling import ProfileReport\n",
    "from zipfile import ZipFile\n",
    "from io import BytesIO\n",
    "import matplotlib.pyplot as plt\n",
    "import seaborn as sns\n",
    "\n",
    "from SportsBookModel import data,utils\n",
    "\n",
    "from  pandas_profiling import ProfileReport\n",
    "from sklearn.preprocessing import OneHotEncoder\n",
    "from sklearn.model_selection import train_test_split\n",
    "from sklearn.preprocessing import StandardScaler,MinMaxScaler,RobustScaler,LabelEncoder\n",
    "from sklearn.linear_model import LinearRegression,LogisticRegression\n",
    "\n",
    "from sklearn.neighbors import KNeighborsClassifier\n",
    "from sklearn.svm import SVC\n",
    "from sklearn.naive_bayes import GaussianNB\n",
    "\n",
    "\n",
    "from sklearn.model_selection import learning_curve\n",
    "from sklearn.model_selection import ShuffleSplit"
   ]
  },
  {
   "cell_type": "markdown",
   "id": "f2e6f129",
   "metadata": {
    "hidden": true
   },
   "source": [
    "## Juypter Extentions & Misc"
   ]
  },
  {
   "cell_type": "code",
   "execution_count": 3,
   "id": "cb3632e0",
   "metadata": {
    "hidden": true
   },
   "outputs": [],
   "source": [
    "%load_ext autoreload\n",
    "%autoreload 2\n",
    "%matplotlib inline\n",
    "%matplotlib widget\n",
    "#%matplotlib\n",
    "#pd.set_option(\"display.max_columns\",None)"
   ]
  },
  {
   "cell_type": "markdown",
   "id": "87273033",
   "metadata": {},
   "source": [
    "#  Params\n",
    "\n",
    "Current Directory \"notebook\"\n",
    "\n",
    "```\n",
    ".\n",
    "├── SportsBookModel\n",
    "├── SportsBookModel.egg-info\n",
    "├── api\n",
    "├── data\n",
    "│   ├── datahubio\n",
    "│   │   ├── archive\n",
    "│   │   └── data\n",
    "│   ├── dataworld\n",
    "│   │   ├── archive\n",
    "│   │   └── data\n",
    "│   ├── football-data\n",
    "│   ├── processed\n",
    "│   └── refdata\n",
    "├── notebooks\n",
    "├── scripts\n",
    "└── tests\n",
    "\n",
    "```"
   ]
  },
  {
   "cell_type": "code",
   "execution_count": 4,
   "id": "1f70c4c6",
   "metadata": {},
   "outputs": [],
   "source": [
    "BASEDATA_DIR='../data/'\n",
    "REF_DIR='refdata/'\n",
    "PROCESSED_DIR='processed/'\n",
    "HUBIO_DATADIR=\"datahubio/\"\n",
    "FB_DATADIR=\"football-data/\"\n",
    "fb_urlcsv='https://www.football-data.co.uk/mmz4281/1920/E0.csv'\n",
    "datahub_urlzip = \"https://datahub.io/sports-data/english-premier-league/r/english-premier-league_zip.zip\""
   ]
  },
  {
   "cell_type": "markdown",
   "id": "90684193",
   "metadata": {},
   "source": [
    "# Load Data "
   ]
  },
  {
   "cell_type": "code",
   "execution_count": 5,
   "id": "045219f2",
   "metadata": {},
   "outputs": [
    {
     "name": "stdout",
     "output_type": "stream",
     "text": [
      "../data/refdata/\n"
     ]
    }
   ],
   "source": [
    "df_refdata=data.load_feature_desc(BASEDATA_DIR,REF_DIR)"
   ]
  },
  {
   "cell_type": "code",
   "execution_count": 7,
   "id": "913b0cc3",
   "metadata": {
    "scrolled": false
   },
   "outputs": [
    {
     "name": "stdout",
     "output_type": "stream",
     "text": [
      "../data/datahubio/\n"
     ]
    }
   ],
   "source": [
    "df_hubio=data.get_datahubio_data(BASEDATA_DIR,HUBIO_DATADIR,datahub_urlzip)"
   ]
  },
  {
   "cell_type": "code",
   "execution_count": 9,
   "id": "d0510077",
   "metadata": {},
   "outputs": [],
   "source": [
    "df_fd=data.get_football_co_uk_data(BASEDATA_DIR,FB_DATADIR,fb_urlcsv)"
   ]
  },
  {
   "cell_type": "code",
   "execution_count": 12,
   "id": "8f7c11d0",
   "metadata": {},
   "outputs": [],
   "source": [
    "df_merged=data.merge_df_common_columns(df_fd,df_hubio)"
   ]
  },
  {
   "cell_type": "markdown",
   "id": "05d30e4c",
   "metadata": {},
   "source": [
    "# Reduce Features"
   ]
  },
  {
   "cell_type": "code",
   "execution_count": null,
   "id": "f373e713",
   "metadata": {},
   "outputs": [],
   "source": [
    "def refdata_columnstatus_criteria(\n",
    "    df_ref: pd.DataFrame,\n",
    "    df: pd.DataFrame,\n",
    "    colvalue: str\n",
    ") -> pd.DataFrame:\n",
    "    \"\"\"[summary]\n",
    "\n",
    "    Args:\n",
    "        df (pd.DataFrame): [Dataframe with all the column information]\n",
    "        ColumnTypeValue (str): [Value of Column type to match]\n",
    "\n",
    "    Returns:\n",
    "        pd.DataFrame: [Dataframe with columns with \"MatchInfo value\"]\n",
    "    \"\"\"\n",
    "    df_matchinfo_only = df.copy()\n",
    "    df_ref.value_counts().nunique()\n",
    "    keep_columns = list(\n",
    "        df_ref.loc[\n",
    "            df_ref[\"ColumnStatus\"].str.contains(\"Matchinfo\", case=False)\n",
    "        ][\"ColumnName\"]\n",
    "    )\n",
    "    for col in df_matchinfo_only.columns:\n",
    "        if col not in keep_columns:\n",
    "            del df_matchinfo_only[col]\n",
    "\n",
    "    return df_matchinfo_only"
   ]
  },
  {
   "cell_type": "code",
   "execution_count": null,
   "id": "168cddf4",
   "metadata": {},
   "outputs": [],
   "source": [
    "df_merged=refdata_columnstatus_criteria(df_refdata,df_merged,\"Matchinfo\")\n",
    "df_merged"
   ]
  },
  {
   "cell_type": "markdown",
   "id": "38fdd9f2",
   "metadata": {},
   "source": [
    "# Clean Data"
   ]
  },
  {
   "cell_type": "code",
   "execution_count": 14,
   "id": "5cea1bc0",
   "metadata": {},
   "outputs": [],
   "source": [
    "df_missing=pd.DataFrame(df_merged2.isnull().sum().sort_values(ascending=False) /len(df_merged) * 100, columns=['percentage'])"
   ]
  },
  {
   "cell_type": "code",
   "execution_count": null,
   "id": "55914d4f",
   "metadata": {},
   "outputs": [],
   "source": [
    "df_merged2=data.drop_df_missing_data(df_merged2,90)"
   ]
  },
  {
   "cell_type": "markdown",
   "id": "1a36fea0",
   "metadata": {},
   "source": [
    "Feature Engineering "
   ]
  },
  {
   "cell_type": "markdown",
   "id": "bbcdf35a",
   "metadata": {
    "heading_collapsed": true
   },
   "source": [
    "## Feature Correlation"
   ]
  },
  {
   "cell_type": "markdown",
   "id": "99d8f9ad",
   "metadata": {},
   "source": [
    "## Optimise  Dataframe size"
   ]
  },
  {
   "cell_type": "code",
   "execution_count": null,
   "id": "b32ebe93",
   "metadata": {},
   "outputs": [],
   "source": [
    "df_merged2=utils.reduce_memory_usage(df_merged2)"
   ]
  },
  {
   "cell_type": "code",
   "execution_count": null,
   "id": "3cd677e5",
   "metadata": {},
   "outputs": [],
   "source": [
    "df_merged2['combined_HTR_FTR']=df_merged2['HTR'] + df_merged2['FTR']\n",
    "df_merged2['combined_HTR_FTR'].replace(dict(data.get_DF_HTR_FTR_matrix(df_merged2)),inplace=True)"
   ]
  },
  {
   "cell_type": "code",
   "execution_count": null,
   "id": "9c9e7249",
   "metadata": {},
   "outputs": [],
   "source": [
    "df_merged2.drop(columns=['HTR','FTR'],inplace=True)"
   ]
  },
  {
   "cell_type": "code",
   "execution_count": null,
   "id": "0ad0e731",
   "metadata": {},
   "outputs": [],
   "source": [
    "y=df_merged2['combined_HTR_FTR']\n",
    "X=df_merged2.drop(columns='combined_HTR_FTR')\n"
   ]
  },
  {
   "cell_type": "markdown",
   "id": "fb6a2964",
   "metadata": {
    "heading_collapsed": true
   },
   "source": [
    "## Model"
   ]
  }
 ],
 "metadata": {
  "kernelspec": {
   "display_name": "Python 3 (ipykernel)",
   "language": "python",
   "name": "python3"
  },
  "language_info": {
   "codemirror_mode": {
    "name": "ipython",
    "version": 3
   },
   "file_extension": ".py",
   "mimetype": "text/x-python",
   "name": "python",
   "nbconvert_exporter": "python",
   "pygments_lexer": "ipython3",
   "version": "3.8.6"
  },
  "toc": {
   "base_numbering": 1,
   "nav_menu": {},
   "number_sections": true,
   "sideBar": true,
   "skip_h1_title": false,
   "title_cell": "Table of Contents",
   "title_sidebar": "Contents",
   "toc_cell": false,
   "toc_position": {
    "height": "calc(100% - 180px)",
    "left": "10px",
    "top": "150px",
    "width": "303.594px"
   },
   "toc_section_display": true,
   "toc_window_display": true
  },
  "varInspector": {
   "cols": {
    "lenName": 16,
    "lenType": 16,
    "lenVar": 40
   },
   "kernels_config": {
    "python": {
     "delete_cmd_postfix": "",
     "delete_cmd_prefix": "del ",
     "library": "var_list.py",
     "varRefreshCmd": "print(var_dic_list())"
    },
    "r": {
     "delete_cmd_postfix": ") ",
     "delete_cmd_prefix": "rm(",
     "library": "var_list.r",
     "varRefreshCmd": "cat(var_dic_list()) "
    }
   },
   "types_to_exclude": [
    "module",
    "function",
    "builtin_function_or_method",
    "instance",
    "_Feature"
   ],
   "window_display": false
  }
 },
 "nbformat": 4,
 "nbformat_minor": 5
}
